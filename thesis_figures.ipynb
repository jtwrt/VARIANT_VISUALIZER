{
 "cells": [
  {
   "cell_type": "code",
   "execution_count": 1,
   "metadata": {},
   "outputs": [
    {
     "name": "stderr",
     "output_type": "stream",
     "text": [
      "2024-01-11 22:38:47.518755: I tensorflow/core/util/port.cc:113] oneDNN custom operations are on. You may see slightly different numerical results due to floating-point round-off errors from different computation orders. To turn them off, set the environment variable `TF_ENABLE_ONEDNN_OPTS=0`.\n",
      "2024-01-11 22:38:47.522668: I external/local_tsl/tsl/cuda/cudart_stub.cc:31] Could not find cuda drivers on your machine, GPU will not be used.\n",
      "2024-01-11 22:38:47.562013: E external/local_xla/xla/stream_executor/cuda/cuda_dnn.cc:9261] Unable to register cuDNN factory: Attempting to register factory for plugin cuDNN when one has already been registered\n",
      "2024-01-11 22:38:47.562039: E external/local_xla/xla/stream_executor/cuda/cuda_fft.cc:607] Unable to register cuFFT factory: Attempting to register factory for plugin cuFFT when one has already been registered\n",
      "2024-01-11 22:38:47.563262: E external/local_xla/xla/stream_executor/cuda/cuda_blas.cc:1515] Unable to register cuBLAS factory: Attempting to register factory for plugin cuBLAS when one has already been registered\n",
      "2024-01-11 22:38:47.569670: I external/local_tsl/tsl/cuda/cudart_stub.cc:31] Could not find cuda drivers on your machine, GPU will not be used.\n",
      "2024-01-11 22:38:47.570318: I tensorflow/core/platform/cpu_feature_guard.cc:182] This TensorFlow binary is optimized to use available CPU instructions in performance-critical operations.\n",
      "To enable the following instructions: AVX2 AVX512F AVX512_VNNI FMA, in other operations, rebuild TensorFlow with the appropriate compiler flags.\n",
      "2024-01-11 22:38:48.753637: W tensorflow/compiler/tf2tensorrt/utils/py_utils.cc:38] TF-TRT Warning: Could not find TensorRT\n"
     ]
    }
   ],
   "source": [
    "import variant_visualizer as vv"
   ]
  },
  {
   "cell_type": "code",
   "execution_count": 2,
   "metadata": {},
   "outputs": [],
   "source": [
    "# Initalizing a Figure for visualizing a PTEN transcript:\n",
    "\n",
    "pten_transcript_id = 'ENST00000371953'\n",
    "\n",
    "## Identify the cluster that includes the transcript gene locus:\n",
    "index = vv.clusters.load_index('pre-generated')\n",
    "pten_cluster_id = index.query_ensembl_id(\n",
    "  ensembl_id=pten_transcript_id\n",
    ")\n",
    "## Load the correct cluster into memory:\n",
    "cluster = vv.clusters.load_cluster(pten_cluster_id)\n",
    "\n",
    "## Initialize the empty figure:\n",
    "figure = vv.visualization.Figure(\n",
    "  reference_type='genomic',\n",
    "  cluster=cluster,\n",
    "  transcript_ids=[pten_transcript_id]\n",
    ")\n",
    "## Add the transcript selected at Figure initialization:\n",
    "figure.add_gtf_transcript_features()\n",
    "\n",
    "## Internally update the figure with all added features:\n",
    "figure.update_figure()\n",
    "\n",
    "## Export the visualization as pdf:\n",
    "figure.export('example_figures/vv_example_1.pdf')"
   ]
  },
  {
   "cell_type": "code",
   "execution_count": 3,
   "metadata": {},
   "outputs": [],
   "source": [
    "from copy import deepcopy\n",
    "fig1 = deepcopy(figure)"
   ]
  },
  {
   "cell_type": "code",
   "execution_count": 4,
   "metadata": {},
   "outputs": [],
   "source": [
    "# Initalizing a Figure for visualizing a PTEN transcript:\n",
    "\n",
    "pten_transcript_id = 'ENST00000371953'\n",
    "\n",
    "## Identify the cluster that includes the transcript gene locus:\n",
    "index = vv.clusters.load_index('pre-generated')\n",
    "pten_cluster_id = index.query_ensembl_id(\n",
    "  ensembl_id=pten_transcript_id\n",
    ")\n",
    "## Load the correct cluster into memory:\n",
    "cluster = vv.clusters.load_cluster(pten_cluster_id)\n",
    "\n",
    "## Initialize the empty figure:\n",
    "figure = vv.visualization.Figure(\n",
    "  reference_type='transcript',\n",
    "  cluster=cluster,\n",
    "  transcript_ids=[pten_transcript_id]\n",
    ")\n",
    "## Add the transcript selected at Figure initialization:\n",
    "figure.add_gtf_transcript_features()\n",
    "\n",
    "## Internally update the figure with all added features:\n",
    "figure.update_figure()\n",
    "\n",
    "## Export the visualization as pdf:\n",
    "figure.export('example_figures/vv_example_1b.pdf')"
   ]
  },
  {
   "cell_type": "code",
   "execution_count": 6,
   "metadata": {},
   "outputs": [],
   "source": [
    "# Initalizing a Figure for visualizing a PTEN transcript:\n",
    "\n",
    "pten_transcript_id = 'ENST00000371953'\n",
    "\n",
    "## Identify the cluster that includes the transcript gene locus:\n",
    "index = vv.clusters.load_index('pre-generated')\n",
    "pten_cluster_id = index.query_ensembl_id(\n",
    "  ensembl_id=pten_transcript_id\n",
    ")\n",
    "## Load the correct cluster into memory:\n",
    "cluster = vv.clusters.load_cluster(pten_cluster_id)\n",
    "\n",
    "## Initialize the empty figure:\n",
    "figure = vv.visualization.Figure(\n",
    "  reference_type='protein',\n",
    "  cluster=cluster,\n",
    "  transcript_ids=[pten_transcript_id]\n",
    ")\n",
    "## Add the transcript selected at Figure initialization:\n",
    "figure.add_gtf_transcript_features()\n",
    "\n",
    "## Internally update the figure with all added features:\n",
    "figure.update_figure()\n",
    "\n",
    "## Export the visualization as pdf:\n",
    "figure.export('example_figures/vv_example_1c.pdf')"
   ]
  },
  {
   "cell_type": "code",
   "execution_count": 7,
   "metadata": {},
   "outputs": [],
   "source": [
    "figure = deepcopy(fig1)"
   ]
  },
  {
   "cell_type": "code",
   "execution_count": 8,
   "metadata": {},
   "outputs": [],
   "source": [
    "# Plotting somatic variants in the existing figure:\n",
    "\n",
    "figure.add_variants()\n",
    "figure.update_figure()\n",
    "figure.export('example_figures/vv_example_2.pdf')"
   ]
  },
  {
   "cell_type": "code",
   "execution_count": 9,
   "metadata": {},
   "outputs": [],
   "source": [
    "figure = deepcopy(fig1)"
   ]
  },
  {
   "cell_type": "code",
   "execution_count": 10,
   "metadata": {},
   "outputs": [],
   "source": [
    "# Plotting cis-regulatory elmenets in the existing figure:\n",
    "\n",
    "figure.add_pas()\n",
    "figure.add_miRNA_binding()\n",
    "figure.add_rbp_binding()\n",
    "figure.update_figure()\n",
    "figure.export('example_figures/vv_example_3.pdf')"
   ]
  },
  {
   "cell_type": "code",
   "execution_count": 11,
   "metadata": {},
   "outputs": [],
   "source": [
    "figure = deepcopy(fig1)"
   ]
  },
  {
   "cell_type": "code",
   "execution_count": 12,
   "metadata": {},
   "outputs": [],
   "source": [
    "# Plotting annotations from the UniprotKB in the existing figure:\n",
    "\n",
    "uniprot = vv.protein_annotation.UniprotAnnotations()\n",
    "pten_annotations = uniprot.get_transcript_features(\n",
    "    ensembl_id=pten_transcript_id,\n",
    "    features=['domain','active site'],\n",
    "    cluster=cluster\n",
    ")\n",
    "figure.add_protein_annotations(\n",
    "    protein_annotations=pten_annotations\n",
    ")\n",
    "figure.update_figure()\n",
    "figure.export('example_figures/vv_example_4.pdf')"
   ]
  },
  {
   "cell_type": "code",
   "execution_count": 13,
   "metadata": {},
   "outputs": [],
   "source": [
    "figure = deepcopy(fig1)"
   ]
  },
  {
   "cell_type": "code",
   "execution_count": 14,
   "metadata": {},
   "outputs": [],
   "source": [
    "# Creating a custom BioRegion and visualizing it:\n",
    "\n",
    "# Select the reference (where the region is located):\n",
    "pten_protein_reference = cluster.get_reference(\n",
    "    reference_type='protein', # amino acid locations in the coding-region ...\n",
    "    transcript_id=pten_transcript_id, # ...of this transcript\n",
    ")\n",
    "\n",
    "## Generate the BioRegion object:\n",
    "my_protein_bio_region = vv.core.BioRegion(\n",
    "    start=250,\n",
    "    end=300,\n",
    "    reference=pten_protein_reference\n",
    ")\n",
    "\n",
    "## Create a track with the custom region:\n",
    "figure.add_regions(\n",
    "    regions=[my_protein_bio_region],\n",
    "    legend_entry='Custom region'\n",
    ")\n",
    "figure.update_figure()\n",
    "figure.export('example_figures/vv_example_5.pdf')"
   ]
  }
 ],
 "metadata": {
  "kernelspec": {
   "display_name": "vavis",
   "language": "python",
   "name": "python3"
  },
  "language_info": {
   "codemirror_mode": {
    "name": "ipython",
    "version": 3
   },
   "file_extension": ".py",
   "mimetype": "text/x-python",
   "name": "python",
   "nbconvert_exporter": "python",
   "pygments_lexer": "ipython3",
   "version": "3.11.5"
  }
 },
 "nbformat": 4,
 "nbformat_minor": 2
}
